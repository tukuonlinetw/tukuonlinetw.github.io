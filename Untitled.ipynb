{
 "cells": [
  {
   "cell_type": "code",
   "execution_count": 1,
   "metadata": {},
   "outputs": [],
   "source": [
    "import os\n",
    "from glob import glob"
   ]
  },
  {
   "cell_type": "code",
   "execution_count": 22,
   "metadata": {},
   "outputs": [
    {
     "name": "stdout",
     "output_type": "stream",
     "text": [
      "<div class=@col-lg-3 col-md-4 col-sm-6 lo2@><div class=@h_gallery_item@><img src=@img/gallery/headset3c/AHP00101_Hang Powerbank.jpg@ alt=@@><div class=@hover@><a href=@https://wa.me/886976387756?text=Saya%20mau%20pesan%20ini%20AHP00101_Hang Powerbank.jpg@><h4>Coba order</h4></a><a class=@light@ href=@img/gallery/headset3c/AHP00101_Hang Powerbank.jpg@><i class=@fa fa-expand@></i></a></div></div></div>\n",
      "<div class=@col-lg-3 col-md-4 col-sm-6 lo2@><div class=@h_gallery_item@><img src=@img/gallery/headset3c/HHB00101_HBS730.jpg@ alt=@@><div class=@hover@><a href=@https://wa.me/886976387756?text=Saya%20mau%20pesan%20ini%20HHB00101_HBS730.jpg@><h4>Coba order</h4></a><a class=@light@ href=@img/gallery/headset3c/HHB00101_HBS730.jpg@><i class=@fa fa-expand@></i></a></div></div></div>\n",
      "<div class=@col-lg-3 col-md-4 col-sm-6 lo2@><div class=@h_gallery_item@><img src=@img/gallery/headset3c/HHB00102_HBS730.jpg@ alt=@@><div class=@hover@><a href=@https://wa.me/886976387756?text=Saya%20mau%20pesan%20ini%20HHB00102_HBS730.jpg@><h4>Coba order</h4></a><a class=@light@ href=@img/gallery/headset3c/HHB00102_HBS730.jpg@><i class=@fa fa-expand@></i></a></div></div></div>\n",
      "<div class=@col-lg-3 col-md-4 col-sm-6 lo2@><div class=@h_gallery_item@><img src=@img/gallery/headset3c/HHC00101_FLAT YJ.jpg@ alt=@@><div class=@hover@><a href=@https://wa.me/886976387756?text=Saya%20mau%20pesan%20ini%20HHC00101_FLAT YJ.jpg@><h4>Coba order</h4></a><a class=@light@ href=@img/gallery/headset3c/HHC00101_FLAT YJ.jpg@><i class=@fa fa-expand@></i></a></div></div></div>\n",
      "<div class=@col-lg-3 col-md-4 col-sm-6 lo2@><div class=@h_gallery_item@><img src=@img/gallery/headset3c/HHC00102_FLAT YJ.jpg@ alt=@@><div class=@hover@><a href=@https://wa.me/886976387756?text=Saya%20mau%20pesan%20ini%20HHC00102_FLAT YJ.jpg@><h4>Coba order</h4></a><a class=@light@ href=@img/gallery/headset3c/HHC00102_FLAT YJ.jpg@><i class=@fa fa-expand@></i></a></div></div></div>\n",
      "<div class=@col-lg-3 col-md-4 col-sm-6 lo2@><div class=@h_gallery_item@><img src=@img/gallery/headset3c/HHC00201_Samsung_J5.jpg@ alt=@@><div class=@hover@><a href=@https://wa.me/886976387756?text=Saya%20mau%20pesan%20ini%20HHC00201_Samsung_J5.jpg@><h4>Coba order</h4></a><a class=@light@ href=@img/gallery/headset3c/HHC00201_Samsung_J5.jpg@><i class=@fa fa-expand@></i></a></div></div></div>\n",
      "<div class=@col-lg-3 col-md-4 col-sm-6 lo2@><div class=@h_gallery_item@><img src=@img/gallery/headset3c/HHC00301_S6.jpg@ alt=@@><div class=@hover@><a href=@https://wa.me/886976387756?text=Saya%20mau%20pesan%20ini%20HHC00301_S6.jpg@><h4>Coba order</h4></a><a class=@light@ href=@img/gallery/headset3c/HHC00301_S6.jpg@><i class=@fa fa-expand@></i></a></div></div></div>\n",
      "<div class=@col-lg-3 col-md-4 col-sm-6 lo2@><div class=@h_gallery_item@><img src=@img/gallery/headset3c/HHC00401_S10 AKG.jpg@ alt=@@><div class=@hover@><a href=@https://wa.me/886976387756?text=Saya%20mau%20pesan%20ini%20HHC00401_S10 AKG.jpg@><h4>Coba order</h4></a><a class=@light@ href=@img/gallery/headset3c/HHC00401_S10 AKG.jpg@><i class=@fa fa-expand@></i></a></div></div></div>\n",
      "<div class=@col-lg-3 col-md-4 col-sm-6 lo2@><div class=@h_gallery_item@><img src=@img/gallery/headset3c/HHC00501_SONY_Extrabass.jpg@ alt=@@><div class=@hover@><a href=@https://wa.me/886976387756?text=Saya%20mau%20pesan%20ini%20HHC00501_SONY_Extrabass.jpg@><h4>Coba order</h4></a><a class=@light@ href=@img/gallery/headset3c/HHC00501_SONY_Extrabass.jpg@><i class=@fa fa-expand@></i></a></div></div></div>\n",
      "<div class=@col-lg-3 col-md-4 col-sm-6 lo2@><div class=@h_gallery_item@><img src=@img/gallery/headset3c/HHC00503_SONY_Extrabass.jpg@ alt=@@><div class=@hover@><a href=@https://wa.me/886976387756?text=Saya%20mau%20pesan%20ini%20HHC00503_SONY_Extrabass.jpg@><h4>Coba order</h4></a><a class=@light@ href=@img/gallery/headset3c/HHC00503_SONY_Extrabass.jpg@><i class=@fa fa-expand@></i></a></div></div></div>\n",
      "<div class=@col-lg-3 col-md-4 col-sm-6 lo3@><div class=@h_gallery_item@><img src=@img/gallery/hijab/HIR00401.jpg@ alt=@@><div class=@hover@><a href=@https://wa.me/886976387756?text=Saya%20mau%20pesan%20ini%20HIR00401.jpg@><h4>Coba order</h4></a><a class=@light@ href=@img/gallery/hijab/HIR00401.jpg@><i class=@fa fa-expand@></i></a></div></div></div>\n",
      "<div class=@col-lg-3 col-md-4 col-sm-6 lo3@><div class=@h_gallery_item@><img src=@img/gallery/hijab/HIR00402.jpg@ alt=@@><div class=@hover@><a href=@https://wa.me/886976387756?text=Saya%20mau%20pesan%20ini%20HIR00402.jpg@><h4>Coba order</h4></a><a class=@light@ href=@img/gallery/hijab/HIR00402.jpg@><i class=@fa fa-expand@></i></a></div></div></div>\n",
      "<div class=@col-lg-3 col-md-4 col-sm-6 lo3@><div class=@h_gallery_item@><img src=@img/gallery/hijab/HIR00405.jpg@ alt=@@><div class=@hover@><a href=@https://wa.me/886976387756?text=Saya%20mau%20pesan%20ini%20HIR00405.jpg@><h4>Coba order</h4></a><a class=@light@ href=@img/gallery/hijab/HIR00405.jpg@><i class=@fa fa-expand@></i></a></div></div></div>\n",
      "<div class=@col-lg-3 col-md-4 col-sm-6 lo3@><div class=@h_gallery_item@><img src=@img/gallery/hijab/HIR00406.jpg@ alt=@@><div class=@hover@><a href=@https://wa.me/886976387756?text=Saya%20mau%20pesan%20ini%20HIR00406.jpg@><h4>Coba order</h4></a><a class=@light@ href=@img/gallery/hijab/HIR00406.jpg@><i class=@fa fa-expand@></i></a></div></div></div>\n",
      "<div class=@col-lg-3 col-md-4 col-sm-6 lo3@><div class=@h_gallery_item@><img src=@img/gallery/hijab/HIR00409.jpg@ alt=@@><div class=@hover@><a href=@https://wa.me/886976387756?text=Saya%20mau%20pesan%20ini%20HIR00409.jpg@><h4>Coba order</h4></a><a class=@light@ href=@img/gallery/hijab/HIR00409.jpg@><i class=@fa fa-expand@></i></a></div></div></div>\n",
      "<div class=@col-lg-3 col-md-4 col-sm-6 lo3@><div class=@h_gallery_item@><img src=@img/gallery/hijab/HIR00506.jpg@ alt=@@><div class=@hover@><a href=@https://wa.me/886976387756?text=Saya%20mau%20pesan%20ini%20HIR00506.jpg@><h4>Coba order</h4></a><a class=@light@ href=@img/gallery/hijab/HIR00506.jpg@><i class=@fa fa-expand@></i></a></div></div></div>\n",
      "<div class=@col-lg-3 col-md-4 col-sm-6 lo3@><div class=@h_gallery_item@><img src=@img/gallery/hijab/HIR00508.jpg@ alt=@@><div class=@hover@><a href=@https://wa.me/886976387756?text=Saya%20mau%20pesan%20ini%20HIR00508.jpg@><h4>Coba order</h4></a><a class=@light@ href=@img/gallery/hijab/HIR00508.jpg@><i class=@fa fa-expand@></i></a></div></div></div>\n",
      "<div class=@col-lg-3 col-md-4 col-sm-6 lo3@><div class=@h_gallery_item@><img src=@img/gallery/hijab/HIR00510.jpg@ alt=@@><div class=@hover@><a href=@https://wa.me/886976387756?text=Saya%20mau%20pesan%20ini%20HIR00510.jpg@><h4>Coba order</h4></a><a class=@light@ href=@img/gallery/hijab/HIR00510.jpg@><i class=@fa fa-expand@></i></a></div></div></div>\n",
      "<div class=@col-lg-3 col-md-4 col-sm-6 lo3@><div class=@h_gallery_item@><img src=@img/gallery/hijab/HIT00103.jpg@ alt=@@><div class=@hover@><a href=@https://wa.me/886976387756?text=Saya%20mau%20pesan%20ini%20HIT00103.jpg@><h4>Coba order</h4></a><a class=@light@ href=@img/gallery/hijab/HIT00103.jpg@><i class=@fa fa-expand@></i></a></div></div></div>\n",
      "<div class=@col-lg-3 col-md-4 col-sm-6 lo3@><div class=@h_gallery_item@><img src=@img/gallery/hijab/HIT00105.jpg@ alt=@@><div class=@hover@><a href=@https://wa.me/886976387756?text=Saya%20mau%20pesan%20ini%20HIT00105.jpg@><h4>Coba order</h4></a><a class=@light@ href=@img/gallery/hijab/HIT00105.jpg@><i class=@fa fa-expand@></i></a></div></div></div>\n",
      "<div class=@col-lg-3 col-md-4 col-sm-6 lo3@><div class=@h_gallery_item@><img src=@img/gallery/hijab/HIT00107.jpg@ alt=@@><div class=@hover@><a href=@https://wa.me/886976387756?text=Saya%20mau%20pesan%20ini%20HIT00107.jpg@><h4>Coba order</h4></a><a class=@light@ href=@img/gallery/hijab/HIT00107.jpg@><i class=@fa fa-expand@></i></a></div></div></div>\n",
      "<div class=@col-lg-3 col-md-4 col-sm-6 lo3@><div class=@h_gallery_item@><img src=@img/gallery/hijab/HIT00108.jpg@ alt=@@><div class=@hover@><a href=@https://wa.me/886976387756?text=Saya%20mau%20pesan%20ini%20HIT00108.jpg@><h4>Coba order</h4></a><a class=@light@ href=@img/gallery/hijab/HIT00108.jpg@><i class=@fa fa-expand@></i></a></div></div></div>\n",
      "<div class=@col-lg-3 col-md-4 col-sm-6 lo3@><div class=@h_gallery_item@><img src=@img/gallery/hijab/HIT00109.jpg@ alt=@@><div class=@hover@><a href=@https://wa.me/886976387756?text=Saya%20mau%20pesan%20ini%20HIT00109.jpg@><h4>Coba order</h4></a><a class=@light@ href=@img/gallery/hijab/HIT00109.jpg@><i class=@fa fa-expand@></i></a></div></div></div>\n",
      "<div class=@col-lg-3 col-md-4 col-sm-6 lo3@><div class=@h_gallery_item@><img src=@img/gallery/hijab/HIT00201.jpg@ alt=@@><div class=@hover@><a href=@https://wa.me/886976387756?text=Saya%20mau%20pesan%20ini%20HIT00201.jpg@><h4>Coba order</h4></a><a class=@light@ href=@img/gallery/hijab/HIT00201.jpg@><i class=@fa fa-expand@></i></a></div></div></div>\n",
      "<div class=@col-lg-3 col-md-4 col-sm-6 lo3@><div class=@h_gallery_item@><img src=@img/gallery/hijab/HIT00208.jpg@ alt=@@><div class=@hover@><a href=@https://wa.me/886976387756?text=Saya%20mau%20pesan%20ini%20HIT00208.jpg@><h4>Coba order</h4></a><a class=@light@ href=@img/gallery/hijab/HIT00208.jpg@><i class=@fa fa-expand@></i></a></div></div></div>\n",
      "<div class=@col-lg-3 col-md-4 col-sm-6 lo3@><div class=@h_gallery_item@><img src=@img/gallery/hijab/HIT00209.jpg@ alt=@@><div class=@hover@><a href=@https://wa.me/886976387756?text=Saya%20mau%20pesan%20ini%20HIT00209.jpg@><h4>Coba order</h4></a><a class=@light@ href=@img/gallery/hijab/HIT00209.jpg@><i class=@fa fa-expand@></i></a></div></div></div>\n",
      "<div class=@col-lg-3 col-md-4 col-sm-6 lo3@><div class=@h_gallery_item@><img src=@img/gallery/hijab/HIT00210.jpg@ alt=@@><div class=@hover@><a href=@https://wa.me/886976387756?text=Saya%20mau%20pesan%20ini%20HIT00210.jpg@><h4>Coba order</h4></a><a class=@light@ href=@img/gallery/hijab/HIT00210.jpg@><i class=@fa fa-expand@></i></a></div></div></div>\n",
      "<div class=@col-lg-3 col-md-4 col-sm-6 lo3@><div class=@h_gallery_item@><img src=@img/gallery/hijab/HIT00211.jpg@ alt=@@><div class=@hover@><a href=@https://wa.me/886976387756?text=Saya%20mau%20pesan%20ini%20HIT00211.jpg@><h4>Coba order</h4></a><a class=@light@ href=@img/gallery/hijab/HIT00211.jpg@><i class=@fa fa-expand@></i></a></div></div></div>\n",
      "<div class=@col-lg-3 col-md-4 col-sm-6 lo3@><div class=@h_gallery_item@><img src=@img/gallery/hijab/HIT00301.jpg@ alt=@@><div class=@hover@><a href=@https://wa.me/886976387756?text=Saya%20mau%20pesan%20ini%20HIT00301.jpg@><h4>Coba order</h4></a><a class=@light@ href=@img/gallery/hijab/HIT00301.jpg@><i class=@fa fa-expand@></i></a></div></div></div>\n",
      "<div class=@col-lg-3 col-md-4 col-sm-6 lo3@><div class=@h_gallery_item@><img src=@img/gallery/hijab/HIT00303.jpg@ alt=@@><div class=@hover@><a href=@https://wa.me/886976387756?text=Saya%20mau%20pesan%20ini%20HIT00303.jpg@><h4>Coba order</h4></a><a class=@light@ href=@img/gallery/hijab/HIT00303.jpg@><i class=@fa fa-expand@></i></a></div></div></div>\n",
      "<div class=@col-lg-3 col-md-4 col-sm-6 lo3@><div class=@h_gallery_item@><img src=@img/gallery/hijab/HIT00309(1).jpg@ alt=@@><div class=@hover@><a href=@https://wa.me/886976387756?text=Saya%20mau%20pesan%20ini%20HIT00309(1).jpg@><h4>Coba order</h4></a><a class=@light@ href=@img/gallery/hijab/HIT00309(1).jpg@><i class=@fa fa-expand@></i></a></div></div></div>\n",
      "<div class=@col-lg-3 col-md-4 col-sm-6 lo3@><div class=@h_gallery_item@><img src=@img/gallery/hijab/HIT00309.jpg@ alt=@@><div class=@hover@><a href=@https://wa.me/886976387756?text=Saya%20mau%20pesan%20ini%20HIT00309.jpg@><h4>Coba order</h4></a><a class=@light@ href=@img/gallery/hijab/HIT00309.jpg@><i class=@fa fa-expand@></i></a></div></div></div>\n",
      "<div class=@col-lg-3 col-md-4 col-sm-6 lo3@><div class=@h_gallery_item@><img src=@img/gallery/hijab/HIT00312(1).jpg@ alt=@@><div class=@hover@><a href=@https://wa.me/886976387756?text=Saya%20mau%20pesan%20ini%20HIT00312(1).jpg@><h4>Coba order</h4></a><a class=@light@ href=@img/gallery/hijab/HIT00312(1).jpg@><i class=@fa fa-expand@></i></a></div></div></div>\n",
      "<div class=@col-lg-3 col-md-4 col-sm-6 lo3@><div class=@h_gallery_item@><img src=@img/gallery/hijab/HIT00312.jpg@ alt=@@><div class=@hover@><a href=@https://wa.me/886976387756?text=Saya%20mau%20pesan%20ini%20HIT00312.jpg@><h4>Coba order</h4></a><a class=@light@ href=@img/gallery/hijab/HIT00312.jpg@><i class=@fa fa-expand@></i></a></div></div></div>\n",
      "<div class=@col-lg-3 col-md-4 col-sm-6 lo3@><div class=@h_gallery_item@><img src=@img/gallery/hijab/HMA00101.jpg@ alt=@@><div class=@hover@><a href=@https://wa.me/886976387756?text=Saya%20mau%20pesan%20ini%20HMA00101.jpg@><h4>Coba order</h4></a><a class=@light@ href=@img/gallery/hijab/HMA00101.jpg@><i class=@fa fa-expand@></i></a></div></div></div>\n",
      "<div class=@col-lg-3 col-md-4 col-sm-6 lo3@><div class=@h_gallery_item@><img src=@img/gallery/hijab/HMA00103.jpg@ alt=@@><div class=@hover@><a href=@https://wa.me/886976387756?text=Saya%20mau%20pesan%20ini%20HMA00103.jpg@><h4>Coba order</h4></a><a class=@light@ href=@img/gallery/hijab/HMA00103.jpg@><i class=@fa fa-expand@></i></a></div></div></div>\n",
      "<div class=@col-lg-3 col-md-4 col-sm-6 lo3@><div class=@h_gallery_item@><img src=@img/gallery/hijab/HMA00109.jpg@ alt=@@><div class=@hover@><a href=@https://wa.me/886976387756?text=Saya%20mau%20pesan%20ini%20HMA00109.jpg@><h4>Coba order</h4></a><a class=@light@ href=@img/gallery/hijab/HMA00109.jpg@><i class=@fa fa-expand@></i></a></div></div></div>\n",
      "<div class=@col-lg-3 col-md-4 col-sm-6 lo3@><div class=@h_gallery_item@><img src=@img/gallery/hijab/HMA00110.jpg@ alt=@@><div class=@hover@><a href=@https://wa.me/886976387756?text=Saya%20mau%20pesan%20ini%20HMA00110.jpg@><h4>Coba order</h4></a><a class=@light@ href=@img/gallery/hijab/HMA00110.jpg@><i class=@fa fa-expand@></i></a></div></div></div>\n",
      "<div class=@col-lg-3 col-md-4 col-sm-6 lo4@><div class=@h_gallery_item@><img src=@img/gallery/kecantikan/Cetaphil.jpg@ alt=@@><div class=@hover@><a href=@https://wa.me/886976387756?text=Saya%20mau%20pesan%20ini%20Cetaphil.jpg@><h4>Coba order</h4></a><a class=@light@ href=@img/gallery/kecantikan/Cetaphil.jpg@><i class=@fa fa-expand@></i></a></div></div></div>\n",
      "<div class=@col-lg-3 col-md-4 col-sm-6 lo4@><div class=@h_gallery_item@><img src=@img/gallery/kecantikan/CetaphilMousturisingLotion.jpg@ alt=@@><div class=@hover@><a href=@https://wa.me/886976387756?text=Saya%20mau%20pesan%20ini%20CetaphilMousturisingLotion.jpg@><h4>Coba order</h4></a><a class=@light@ href=@img/gallery/kecantikan/CetaphilMousturisingLotion.jpg@><i class=@fa fa-expand@></i></a></div></div></div>\n",
      "<div class=@col-lg-3 col-md-4 col-sm-6 lo4@><div class=@h_gallery_item@><img src=@img/gallery/kecantikan/CetaphilSabun.jpg@ alt=@@><div class=@hover@><a href=@https://wa.me/886976387756?text=Saya%20mau%20pesan%20ini%20CetaphilSabun.jpg@><h4>Coba order</h4></a><a class=@light@ href=@img/gallery/kecantikan/CetaphilSabun.jpg@><i class=@fa fa-expand@></i></a></div></div></div>\n",
      "<div class=@col-lg-3 col-md-4 col-sm-6 lo4@><div class=@h_gallery_item@><img src=@img/gallery/kecantikan/CetaphilSkinCleansing.jpg@ alt=@@><div class=@hover@><a href=@https://wa.me/886976387756?text=Saya%20mau%20pesan%20ini%20CetaphilSkinCleansing.jpg@><h4>Coba order</h4></a><a class=@light@ href=@img/gallery/kecantikan/CetaphilSkinCleansing.jpg@><i class=@fa fa-expand@></i></a></div></div></div>\n"
     ]
    }
   ],
   "source": [
    "namafolder=\"img/gallery/\"\n",
    "categorynumber=0\n",
    "for path, subdir, files in os.walk(namafolder):\n",
    "    categorynumber=categorynumber+1\n",
    "    for namafile in files:\n",
    "#         print(path+\"/\"+namafile+\" \"+str(categorynumber))\n",
    "        text=(\"<div class=@col-lg-3 col-md-4 col-sm-6 lo\"+str(categorynumber)+\"@>\"\n",
    "            \"<div class=@h_gallery_item@>\"\n",
    "            \"<img src=@\"+path+\"/\"+namafile+\"@ alt=@@>\"\n",
    "            \"<div class=@hover@>\"\n",
    "            \"<a href=@https://wa.me/886976387756?text=Saya%20mau%20pesan%20ini%20\"+namafile+\"@><h4>Coba order</h4></a>\"\n",
    "            \"<a class=@light@ href=@\"+path+\"/\"+namafile+\"@><i class=@fa fa-expand@></i></a>\"\n",
    "            \"</div></div></div>\")\n",
    "        print(text)\n",
    "length = len(files) "
   ]
  },
  {
   "cell_type": "code",
   "execution_count": 5,
   "metadata": {},
   "outputs": [
    {
     "data": {
      "text/plain": [
       "['Cetaphil.jpg',\n",
       " 'CetaphilMousturisingLotion.jpg',\n",
       " 'CetaphilSabun.jpg',\n",
       " 'CetaphilSkinCleansing.jpg']"
      ]
     },
     "execution_count": 5,
     "metadata": {},
     "output_type": "execute_result"
    }
   ],
   "source": [
    "files"
   ]
  },
  {
   "cell_type": "code",
   "execution_count": null,
   "metadata": {},
   "outputs": [],
   "source": [
    "text=\"<div class=@col-lg-3 col-md-4 col-sm-6 ap@>\"\n",
    "\"<div class=@h_gallery_item@>\"\n",
    "\"<img src=@img/gallery/gallery-1.jpg@ alt=@@>\"\n",
    "\"<div class=@hover@>\"\n",
    "\"<a href=@#@><h4>Spreading Peace to world</h4></a>\"\n",
    "\"<a class=@light@ href=@img/gallery/gallery-1.jpg@><i class=@fa fa-expand@></i></a>\"\n",
    "\"</div></div></div>\"\n",
    "\n"
   ]
  }
 ],
 "metadata": {
  "kernelspec": {
   "display_name": "Python 3",
   "language": "python",
   "name": "python3"
  },
  "language_info": {
   "codemirror_mode": {
    "name": "ipython",
    "version": 3
   },
   "file_extension": ".py",
   "mimetype": "text/x-python",
   "name": "python",
   "nbconvert_exporter": "python",
   "pygments_lexer": "ipython3",
   "version": "3.7.4"
  }
 },
 "nbformat": 4,
 "nbformat_minor": 2
}
